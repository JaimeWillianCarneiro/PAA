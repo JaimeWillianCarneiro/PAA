{
 "cells": [
  {
   "cell_type": "markdown",
   "id": "46c30184",
   "metadata": {},
   "source": [
    "# Grafos"
   ]
  },
  {
   "cell_type": "code",
   "execution_count": null,
   "id": "37860715",
   "metadata": {},
   "outputs": [],
   "source": [
    "class vertice():\n",
    "    def __init__(self, idx):\n",
    "        self.idx = idx\n",
    "#  Classe para representar um grafo utilizando matriz de \n",
    "# adjacências       \n",
    "class GraphMatrix:\n",
    "    def __init__(self, numVertices: int ):\n",
    "        self.m_numVertices = numVertices\n",
    "        self.m_numEdges = 0 \n",
    "        self.m_edges = [[False for _ in range(self.m_numVertices)] for _ in range(self.m_numVertices)]\n",
    "        \n",
    "        \n",
    "        \n",
    "        \n",
    "    def hasEdge(self, v1: vertice, v2: vertice)-> bool:\n",
    "        return self.m_edges[v1][v2]\n",
    "    \n",
    "    def addEdge(self, v1,v2):\n",
    "        if not self.hasEdge(v1, v2):\n",
    "            self.m_edges[v1][v2] = True\n",
    "            self.m_numEdges+=1\n",
    "        \n",
    "    def removeEdge(self, v1, v2):\n",
    "        if self.hasEdge(v1, v2):\n",
    "            self.m_edges[v1][v2] = False\n",
    "            self.m_numEdges-=1\n",
    "            \n",
    "    def __str__(self):\n",
    "        str_repr = \"\"\n",
    "        for vertice_i in range(self.m_numVertices):\n",
    "            for vertice_j in range(self.m_numVertices):\n",
    "                if self.hasEdge(vertice_i, vertice_j):\n",
    "                    str_repr+=f\"({vertice_i},{vertice_j}) \"\n",
    "            str_repr+=\"\\n\" \n",
    "        return str_repr\n",
    "    \n",
    "    def print_matrix(self):\n",
    "        for vertice_i in range(self.m_numVertices):\n",
    "            for vertice_j in range(self.m_numVertices):\n",
    "                print(self.hasEdge(vertice_i, vertice_j), end= \"  \")\n",
    "            \n",
    "            print(\"\\n\")\n",
    "    \n",
    "    def delete(self):\n",
    "        for i in range(self.m_numVertices):\n",
    "            del self.m_edges[i]\n",
    "        \n",
    "        del self.m_edges\n",
    "        \n",
    "        \n",
    "    \n",
    "    "
   ]
  },
  {
   "cell_type": "code",
   "execution_count": null,
   "id": "9a7f291e",
   "metadata": {},
   "outputs": [
    {
     "name": "stdout",
     "output_type": "stream",
     "text": [
      "(0,1) (0,2) \n",
      "(1,3) (1,4) \n",
      "(2,4) \n",
      "(3,4) \n",
      "(4,1) (4,5) \n",
      "\n",
      "\n"
     ]
    }
   ],
   "source": [
    "g1 = GraphMatrix(6)\n",
    "g1.addEdge(0, 1)\n",
    "g1.addEdge(0, 2)\n",
    "g1.addEdge(1, 3)\n",
    "g1.addEdge( 1, 4)\n",
    "g1.addEdge(2,  4)\n",
    "g1.addEdge(3, 4)\n",
    "g1.addEdge(4, 5)\n",
    "g1.addEdge(4, 1)\n",
    "print(g1)"
   ]
  },
  {
   "cell_type": "code",
   "execution_count": null,
   "id": "b61c89dd",
   "metadata": {},
   "outputs": [],
   "source": [
    "class EdgeNode:\n",
    "    def __init__(self, outroVertice, proximo):\n",
    "        \n",
    "        self.__m_outroVertice = outroVertice\n",
    "        self.m_proximo = proximo\n",
    "    \n",
    "    def outroVertice(self):\n",
    "        return self.m_outroVertice\n",
    "    \n",
    "    def next(self):\n",
    "        return self.m_proximo\n",
    "    \n",
    "    def setNext(self):\n",
    "        return\n",
    "       \n",
    "\n",
    "class GraphAdjList:\n",
    "    \n",
    "    def __init__(self, numVertices):\n",
    "        self.__m_numVertices  = numVertices\n",
    "        self.__m_numEdges=0\n",
    "    \n",
    "        self.__m_edges = [ None for _ in range(numVertices)]\n",
    "        \n",
    "        \n",
    "    def addEdge(self, v1, v2):\n",
    "        edge = self.me\n",
    "    def removeEdge(self, v1, v2):\n",
    "        pass\n",
    "    def __str__(self):\n",
    "        pass\n",
    "    "
   ]
  }
 ],
 "metadata": {
  "kernelspec": {
   "display_name": "base",
   "language": "python",
   "name": "python3"
  },
  "language_info": {
   "codemirror_mode": {
    "name": "ipython",
    "version": 3
   },
   "file_extension": ".py",
   "mimetype": "text/x-python",
   "name": "python",
   "nbconvert_exporter": "python",
   "pygments_lexer": "ipython3",
   "version": "3.11.7"
  }
 },
 "nbformat": 4,
 "nbformat_minor": 5
}
