{
 "cells": [
  {
   "cell_type": "markdown",
   "id": "d96ece97",
   "metadata": {},
   "source": [
    "# Implementando os algoritmos da sgeunda parte da Disciplina de PAA"
   ]
  },
  {
   "cell_type": "markdown",
   "id": "6aa078ec",
   "metadata": {},
   "source": [
    "Agendamento de tarefas sem sobreposição"
   ]
  },
  {
   "cell_type": "code",
   "execution_count": null,
   "id": "a641b037",
   "metadata": {},
   "outputs": [],
   "source": [
    "def agendamento_de_tarefa(tarefas: list, start: list, end: list):\n",
    "    tarefas_a_serem_alocadas =[]\n",
    "    n_tarefas = len(tarefas)\n",
    "    #  Agrupando as tarefas\n",
    "    tarefas_ordenada = []\n",
    "    for idx in range(n_tarefas):\n",
    "        tarefa = (tarefas[idx], start[idx], end[idx])\n",
    "        tarefas_ordenada.append(tarefa)\n",
    "    tarefas_ordenada.sort(key= lambda item: item[2])\n",
    "    \n",
    "    \n",
    "    tarefas_a_serem_alocadas.append(tarefas_ordenada[0])  \n",
    "    \n",
    "    for tar_idx in range(1, len(tarefas_ordenada)):\n",
    "        if tarefas_ordenada[tar_idx][1]>=tarefas_a_serem_alocadas[-1][2]:\n",
    "            tarefas_a_serem_alocadas.append(tarefas_ordenada[tar_idx])\n",
    "\n",
    "    \n",
    "    return tarefas_a_serem_alocadas\n",
    "            \n",
    "\n",
    "        \n",
    "        "
   ]
  },
  {
   "cell_type": "code",
   "execution_count": 3,
   "id": "2a02cfec",
   "metadata": {},
   "outputs": [
    {
     "name": "stdout",
     "output_type": "stream",
     "text": [
      "[[6, 7, 1], [2, 3, 2], [1, 2, 3]]\n"
     ]
    }
   ],
   "source": [
    "dados = [[1,2, 3], [2, 3, 2], [6, 7, 1]]\n",
    "dados_sort = dados.sort(key = lambda item: item[2])\n",
    "print(dados)"
   ]
  },
  {
   "cell_type": "markdown",
   "id": "f6e5c52f",
   "metadata": {},
   "source": [
    "Mochila fracionária"
   ]
  },
  {
   "cell_type": "code",
   "execution_count": 2,
   "id": "0c1a6da1",
   "metadata": {},
   "outputs": [],
   "source": [
    "def mochila(I, v, w, n, W):\n",
    "    items_ordenados = []\n",
    "    \n",
    "    for idx in range(n):\n",
    "        item = (I[idx],v[idx], w[idx] , idx )\n",
    "        items_ordenados.append(item)\n",
    "    \n",
    "    \n",
    "    items_ordenados.sort(key = lambda item: item[1]/item[2], reverse=True)\n",
    "    \n",
    "    C = W\n",
    "    i = 0\n",
    "    \n",
    "    M = [0]*n\n",
    "    \n",
    "    while i<n and C>= items_ordenados[i][2]:\n",
    "        item_id, item_v, item_w, item_idx= items_ordenados[i]\n",
    "        M[item_idx] = 1\n",
    "        C -=item_w\n",
    "        i+=1\n",
    "    \n",
    "    if i< n:\n",
    "        item_id, item_v, item_w, item_idx= items_ordenados[i]\n",
    "        M[item_idx] = C/ item_w\n",
    "        \n",
    "    return M \n",
    "\n",
    "\n",
    "    "
   ]
  },
  {
   "cell_type": "code",
   "execution_count": 3,
   "id": "60c8aff2",
   "metadata": {},
   "outputs": [
    {
     "name": "stdout",
     "output_type": "stream",
     "text": [
      "[1, 0, 0.75, 1, 0]\n"
     ]
    }
   ],
   "source": [
    "items = [1, 2, 3, 4, 5]\n",
    "pesos  = [1, 3, 4 ,5 , 7]\n",
    "valor = [2, 4, 6, 10, 8]\n",
    "peso_maximo = 9\n",
    "\n",
    "solucao = mochila(items, valor, pesos, 5, peso_maximo)\n",
    "print(solucao)\n",
    "\n"
   ]
  },
  {
   "cell_type": "code",
   "execution_count": null,
   "id": "032ad93b",
   "metadata": {},
   "outputs": [],
   "source": [
    "items = [1, 2, 3, 4, 5]\n",
    "pesos  = [1, 3, 4 ,5 , 7]\n",
    "valor = [2, 4, 6, 10, 8]\n",
    "peso_maximo = 9\n",
    "\n",
    "solucao = mochila(items, valor, pesos, 5, peso_maximo)\n",
    "print(solucao)\n"
   ]
  },
  {
   "cell_type": "code",
   "execution_count": null,
   "id": "0eb61424",
   "metadata": {},
   "outputs": [],
   "source": [
    "A ={3,7,2,9,5}\n",
    "A = {3,2,7,9,5}\n",
    "A  = {3,2,7,5, 9}\n",
    "A = {3,2,5,7,  9}"
   ]
  },
  {
   "cell_type": "markdown",
   "id": "e2f80dbc",
   "metadata": {},
   "source": [
    "Contagem de Inversões"
   ]
  },
  {
   "cell_type": "code",
   "execution_count": null,
   "id": "b4efe664",
   "metadata": {},
   "outputs": [],
   "source": [
    "#  Versão 1\n",
    "def CountInversions(A):\n",
    "    \n",
    "    def combine(L, R):\n",
    "        inversoes_entre_partes = 0\n",
    "        i = 0 \n",
    "        for aj in R:\n",
    "            while L[i] <= aj:\n",
    "                i+=1\n",
    "            inversoes_aj = len(L) - i\n",
    "            inversoes_entre_partes+=inversoes_aj\n",
    "\n",
    "        return inversoes_entre_partes\n",
    "    \n",
    "        \n",
    "    tamanho_A = len(A)\n",
    "    if tamanho_A==1:\n",
    "        return 0\n",
    "    \n",
    "    L= A[:tamanho_A//2]\n",
    "    R = A[tamanho_A//2:]\n",
    "    \n",
    "    \n",
    "    \n",
    "    inversoes_l = CountInversions(L)\n",
    "    inversoes_r = CountInversions(R)\n",
    "    L.sort()\n",
    "    R.sort()\n",
    "    inversoes_entre_partes= combine(L,  R)\n",
    "    \n",
    "    return inversoes_l + inversoes_r + inversoes_entre_partes\n",
    "    "
   ]
  },
  {
   "cell_type": "code",
   "execution_count": 3,
   "id": "19cc7d64",
   "metadata": {},
   "outputs": [
    {
     "data": {
      "text/plain": [
       "([1, 2], [3, 4])"
      ]
     },
     "execution_count": 3,
     "metadata": {},
     "output_type": "execute_result"
    }
   ],
   "source": [
    "B = [1,2, 3, 4]\n",
    "\n",
    "L = B[:len(B)//2]\n",
    "R = B[len(B)//2:]\n",
    "L, R"
   ]
  },
  {
   "cell_type": "code",
   "execution_count": null,
   "id": "37bf814e",
   "metadata": {},
   "outputs": [],
   "source": [
    "#  Versão 2\n",
    "def CountInversions(A):\n",
    "    \n",
    "    def merge(left, right):\n",
    "        ordenada =[]\n",
    "        i, j = 0, 0 \n",
    "        tamanho_left, tamanho_right = len(left), len(right)\n",
    "        \n",
    "        inversoes = 0\n",
    "        while i<tamanho_left and j<tamanho_right:\n",
    "          \n",
    "            if left[i]<right[j]:\n",
    "                min_value = left[i]\n",
    "                i+=1\n",
    "                \n",
    "            else:\n",
    "                min_value = right[j]\n",
    "                j+=1\n",
    "                inversoes += (len(left)-i)\n",
    "                \n",
    "            ordenada.append(min_value)\n",
    "        \n",
    "        if left[i:]:\n",
    "            ordenada+=left[i:]\n",
    "        if right[j:]:\n",
    "            ordenada+=right[j:]     \n",
    "        \n",
    "        return inversoes, ordenada \n",
    "    \n",
    "    tamanho_A = len(A)\n",
    "    if tamanho_A==1:\n",
    "        return 0, A\n",
    "    \n",
    "    L= A[:tamanho_A//2]\n",
    "    R = A[tamanho_A//2:]\n",
    "    \n",
    "    \n",
    "    \n",
    "    inversoes_l, L = CountInversions(L)\n",
    "    inversoes_r, R  = CountInversions(R)\n",
    "\n",
    "    # = combine(L,  R)\n",
    "    inversoes_entre_partes, A= merge(L, R)\n",
    "    \n",
    "    return inversoes_l + inversoes_r + inversoes_entre_partes, A\n",
    "    "
   ]
  },
  {
   "cell_type": "markdown",
   "id": "4cf8a04a",
   "metadata": {},
   "source": [
    "Pares mais próximos"
   ]
  },
  {
   "cell_type": "code",
   "execution_count": null,
   "id": "ede5b485",
   "metadata": {},
   "outputs": [],
   "source": [
    "\n",
    "\n",
    "def distancia_euclidiana(p1, p2):\n",
    "    dist = ((p1[0]-p2[0])**2 +(p1[1]-p2[1])**2)**(1/2)\n",
    "    return dist\n",
    "def distancia_divisoria(divisoria, ponto):\n",
    "    return abs(ponto[0]- divisoria)\n",
    "\n",
    "#  Versão 1 \n",
    "def closest_pairs(P):\n",
    "    P.sort(key = lambda item: item[0])\n",
    "    tamanho_P = len(P) \n",
    "    \n",
    "    if tamanho_P==1:\n",
    "        return float('inf')\n",
    "    elif tamanho_P ==2:\n",
    "        dist_min = distancia_euclidiana(P[0], P[1])\n",
    "        return dist_min\n",
    "    elif tamanho_P ==3:\n",
    "        dist_1_2 = distancia_euclidiana(P[0],P[1])\n",
    "        dist_1_3 =  distancia_euclidiana(P[0],P[2])\n",
    "        dist_2_3 =  distancia_euclidiana(P[1],P[2])\n",
    "        dist_possiveis = [dist_1_2, dist_1_3, dist_2_3]\n",
    "        dist_min= min(dist_possiveis)\n",
    "        return dist_min\n",
    "    P_l, P_r = P[:tamanho_P//2],P[tamanho_P//2:]\n",
    "    divisoria = (P[tamanho_P//2 ][0] +  P[tamanho_P//2 + 1][0] )*0.5\n",
    "    \n",
    "    min_l = closest_pairs(P_l)\n",
    "    min_r =  closest_pairs(P_r)\n",
    "    min_geral = min(min_l, min_r)\n",
    "    P_m = []\n",
    "    \n",
    "    \n",
    "    \n",
    "    for ponto in P:\n",
    "        if distancia_divisoria(divisoria, ponto) <=min_geral:\n",
    "            P_m.append(ponto)\n",
    "    \n",
    "    #  Ordenando pela ordenada Y \n",
    "    P_m.sort(key= lambda item: item[1])\n",
    "    \n",
    "    \n",
    "    for ponto_idx in range(len(P_m)):\n",
    "        if ponto_idx + 7 <len(P_m):\n",
    "            sete_mais_prox = P_m[ponto_idx+1: ponto_idx + 7]\n",
    "            for ponto_viz in sete_mais_prox:\n",
    "                dist_atual = distancia_euclidiana(ponto_viz, P_m[ponto_idx])\n",
    "                if dist_atual < min_geral:\n",
    "                    min_geral =  dist_atual\n",
    "        elif ponto_idx+1 < len(P_m):\n",
    "            mais_proxim = P_m[ponto_idx+1:]\n",
    "            for ponto_viz in mais_proxim:\n",
    "                dist_atual = distancia_euclidiana(ponto_viz, P_m[ponto_idx])\n",
    "                if dist_atual < min_geral:\n",
    "                    min_geral =  dist_atual\n",
    "    return min_geral\n",
    "        \n",
    "    "
   ]
  },
  {
   "cell_type": "code",
   "execution_count": null,
   "id": "3f68c160",
   "metadata": {},
   "outputs": [],
   "source": [
    "#  Versão 2 \n",
    "def closest_pairs_driver(P):\n",
    "    Px= P.sort(key = lambda item: item[0])\n",
    "    Py = P.sort(key = lambda item: item[1])\n",
    "    closest_pairs_recursiver(Px, Py)\n",
    "    \n",
    "    \n",
    "    def closest_pairs_recursiver(Px, Py):\n",
    "            \n",
    "        \n",
    "        tamanho_P = len(Px) \n",
    "        \n",
    "        if tamanho_P==1:\n",
    "            return float('inf')\n",
    "        elif tamanho_P ==2:\n",
    "            dist_min = distancia_euclidiana(Px[0], Px[1])\n",
    "            return dist_min\n",
    "        elif tamanho_P ==3:\n",
    "            dist_1_2 = distancia_euclidiana(Px[0],Px[1])\n",
    "            dist_1_3 =  distancia_euclidiana(Px[0],Px[2])\n",
    "            dist_2_3 =  distancia_euclidiana(Px[1],Px[2])\n",
    "            dist_possiveis = [dist_1_2, dist_1_3, dist_2_3]\n",
    "            dist_min= min(dist_possiveis)\n",
    "            return dist_min\n",
    "        P_l, P_r = Px[:tamanho_P//2],Px[tamanho_P//2:]\n",
    "        divisoria = (Px[tamanho_P//2 ][0] +  Px[tamanho_P//2 + 1][0] )*0.5\n",
    "        \n",
    "        min_l = closest_pairs(P_l)\n",
    "        min_r =  closest_pairs(P_r)\n",
    "        min_geral = min(min_l, min_r)\n",
    "        P_m = []\n",
    "        \n",
    "        \n",
    "        \n",
    "        for ponto in P:\n",
    "            if distancia_divisoria(divisoria, ponto) <=min_geral:\n",
    "                P_m.append(ponto)\n",
    "        \n",
    "        #  Ordenando pela ordenada Y \n",
    "        P_m.sort(key= lambda item: item[1])\n",
    "        \n",
    "        \n",
    "        for ponto_idx in range(len(P_m)):\n",
    "            if ponto_idx + 7 <len(P_m):\n",
    "                sete_mais_prox = P_m[ponto_idx+1: ponto_idx + 7]\n",
    "                for ponto_viz in sete_mais_prox:\n",
    "                    dist_atual = distancia_euclidiana(ponto_viz, P_m[ponto_idx])\n",
    "                    if dist_atual < min_geral:\n",
    "                        min_geral =  dist_atual\n",
    "            elif ponto_idx+1 < len(P_m):\n",
    "                mais_proxim = P_m[ponto_idx+1:]\n",
    "                for ponto_viz in mais_proxim:\n",
    "                    dist_atual = distancia_euclidiana(ponto_viz, P_m[ponto_idx])\n",
    "                    if dist_atual < min_geral:\n",
    "                        min_geral =  dist_atual\n",
    "        return min_geral\n",
    "        "
   ]
  }
 ],
 "metadata": {
  "kernelspec": {
   "display_name": "base",
   "language": "python",
   "name": "python3"
  },
  "language_info": {
   "codemirror_mode": {
    "name": "ipython",
    "version": 3
   },
   "file_extension": ".py",
   "mimetype": "text/x-python",
   "name": "python",
   "nbconvert_exporter": "python",
   "pygments_lexer": "ipython3",
   "version": "3.11.7"
  }
 },
 "nbformat": 4,
 "nbformat_minor": 5
}
