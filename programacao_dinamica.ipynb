{
 "cells": [
  {
   "cell_type": "markdown",
   "id": "d96ece97",
   "metadata": {},
   "source": [
    "# Implementando os algoritmos da segunda parte da Disciplina de PAA\n",
    "## Programação Dinâmica"
   ]
  },
  {
   "cell_type": "markdown",
   "id": "6aa078ec",
   "metadata": {},
   "source": [
    "Agendamento de tarefas sem sobreposição"
   ]
  },
  {
   "cell_type": "code",
   "execution_count": null,
   "id": "a641b037",
   "metadata": {},
   "outputs": [],
   "source": [
    "def agendamento_de_tarefa(tarefas: list, start: list, end: list):\n",
    "    tarefas_a_serem_alocadas =[]\n",
    "    n_tarefas = len(tarefas)\n",
    "    #  Agrupando as tarefas\n",
    "    tarefas_ordenada = []\n",
    "    for idx in range(n_tarefas):\n",
    "        tarefa = (tarefas[idx], start[idx], end[idx])\n",
    "        tarefas_ordenada.append(tarefa)\n",
    "    tarefas_ordenada.sort(key= lambda item: item[2])\n",
    "    \n",
    "    \n",
    "    tarefas_a_serem_alocadas.append(tarefas_ordenada[0])  \n",
    "    \n",
    "    for tar_idx in range(1, len(tarefas_ordenada)):\n",
    "        if tarefas_ordenada[tar_idx][1]>=tarefas_a_serem_alocadas[-1][2]:\n",
    "            tarefas_a_serem_alocadas.append(tarefas_ordenada[tar_idx])\n",
    "\n",
    "    \n",
    "    return tarefas_a_serem_alocadas\n",
    "        \n",
    "        "
   ]
  },
  {
   "cell_type": "code",
   "execution_count": 3,
   "id": "2a02cfec",
   "metadata": {},
   "outputs": [
    {
     "name": "stdout",
     "output_type": "stream",
     "text": [
      "[[6, 7, 1], [2, 3, 2], [1, 2, 3]]\n"
     ]
    }
   ],
   "source": [
    "dados = [[1,2, 3], [2, 3, 2], [6, 7, 1]]\n",
    "dados_sort = dados.sort(key = lambda item: item[2])\n",
    "print(dados)"
   ]
  },
  {
   "cell_type": "markdown",
   "id": "f6e5c52f",
   "metadata": {},
   "source": [
    "Mochila fracionária"
   ]
  },
  {
   "cell_type": "code",
   "execution_count": null,
   "id": "0c1a6da1",
   "metadata": {},
   "outputs": [],
   "source": [
    "def mochila(I: list, v: list, w: list, n: int, W: int)-> list :\n",
    "    \"\"\"\n",
    "    Solve the fractional knapsack problem and return the selection vector for items\n",
    "\n",
    "    :param I: List of item identifiers\n",
    "    :type I: list\n",
    "    :param v: List of item values\n",
    "    :type v: list\n",
    "    :param w: List of item weights\n",
    "    :type w: list\n",
    "    :param n: Total number of items\n",
    "    :type n: int\n",
    "    :param W: Maximum knapsack capacity\n",
    "    :type W: int\n",
    "    :return: List indicating the fraction of each item included in the knapsack\n",
    "    :rtype: list\n",
    "    \"\"\"    \n",
    " \n",
    "    items_ordenados = []\n",
    "    \n",
    "    for idx in range(n):\n",
    "        item = (I[idx],v[idx], w[idx] , idx )\n",
    "        items_ordenados.append(item)\n",
    "    \n",
    "    # Ordenando itens de forma decrescente e combase na razão valor/peso\n",
    "    items_ordenados.sort(key = lambda item: item[1]/item[2], reverse=True)\n",
    "    \n",
    "    C = W # Capacidade atual \n",
    "    i = 0\n",
    "    \n",
    "    M = [0]*n\n",
    "    \n",
    "    while i<n and C>= items_ordenados[i][2]:\n",
    "        # Se o peso do item é menor que a capacidade atual, o adicionamos completamente na mochila\n",
    "        \n",
    "        item_id, item_v, item_w, item_idx= items_ordenados[i]\n",
    "        \n",
    "        M[item_idx] = 1\n",
    "        C -=item_w\n",
    "        i+=1\n",
    "    \n",
    "    # Caso o o peso do item atual seja maior que a capacidade atual da mochila\n",
    "    # colocamos uma fração do item, completando a mochila completamente\n",
    "    if i< n:\n",
    "        item_id, item_v, item_w, item_idx= items_ordenados[i]\n",
    "        M[item_idx] = C/ item_w\n",
    "        \n",
    "    return M \n",
    "\n",
    "\n",
    "    "
   ]
  },
  {
   "cell_type": "code",
   "execution_count": 3,
   "id": "60c8aff2",
   "metadata": {},
   "outputs": [
    {
     "name": "stdout",
     "output_type": "stream",
     "text": [
      "[1, 0, 0.75, 1, 0]\n"
     ]
    }
   ],
   "source": [
    "items = [1, 2, 3, 4, 5]\n",
    "pesos  = [1, 3, 4 ,5 , 7]\n",
    "valor = [2, 4, 6, 10, 8]\n",
    "peso_maximo = 9\n",
    "\n",
    "solucao = mochila(items, valor, pesos, 5, peso_maximo)\n",
    "print(solucao)\n",
    "\n"
   ]
  },
  {
   "cell_type": "code",
   "execution_count": null,
   "id": "032ad93b",
   "metadata": {},
   "outputs": [],
   "source": [
    "items = [1, 2, 3, 4, 5]\n",
    "pesos  = [1, 3, 4 ,5 , 7]\n",
    "valor = [2, 4, 6, 10, 8]\n",
    "peso_maximo = 9\n",
    "\n",
    "solucao = mochila(items, valor, pesos, 5, peso_maximo)\n",
    "print(solucao)\n"
   ]
  },
  {
   "cell_type": "code",
   "execution_count": null,
   "id": "0eb61424",
   "metadata": {},
   "outputs": [],
   "source": [
    "A ={3,7,2,9,5}\n",
    "A = {3,2,7,9,5}\n",
    "A  = {3,2,7,5, 9}\n",
    "A = {3,2,5,7,  9}"
   ]
  },
  {
   "cell_type": "markdown",
   "id": "e2f80dbc",
   "metadata": {},
   "source": [
    "Contagem de Inversões"
   ]
  },
  {
   "cell_type": "code",
   "execution_count": null,
   "id": "b4efe664",
   "metadata": {},
   "outputs": [],
   "source": [
    "#  Versão 1\n",
    "def CountInversions(A):\n",
    "    \n",
    "    def combine(L, R):\n",
    "        inversoes_entre_partes = 0\n",
    "        i = 0 \n",
    "        for aj in R:\n",
    "            while L[i] <= aj:\n",
    "                i+=1\n",
    "            inversoes_aj = len(L) - i\n",
    "            inversoes_entre_partes+=inversoes_aj\n",
    "\n",
    "        return inversoes_entre_partes\n",
    "    \n",
    "        \n",
    "    tamanho_A = len(A)\n",
    "    if tamanho_A==1:\n",
    "        return 0\n",
    "    \n",
    "    L= A[:tamanho_A//2]\n",
    "    R = A[tamanho_A//2:]\n",
    "    \n",
    "    \n",
    "    \n",
    "    inversoes_l = CountInversions(L)\n",
    "    inversoes_r = CountInversions(R)\n",
    "    L.sort()\n",
    "    R.sort()\n",
    "    inversoes_entre_partes= combine(L,  R)\n",
    "    \n",
    "    return inversoes_l + inversoes_r + inversoes_entre_partes\n",
    "    "
   ]
  },
  {
   "cell_type": "code",
   "execution_count": 3,
   "id": "19cc7d64",
   "metadata": {},
   "outputs": [
    {
     "data": {
      "text/plain": [
       "([1, 2], [3, 4])"
      ]
     },
     "execution_count": 3,
     "metadata": {},
     "output_type": "execute_result"
    }
   ],
   "source": [
    "B = [1,2, 3, 4]\n",
    "\n",
    "L = B[:len(B)//2]\n",
    "R = B[len(B)//2:]\n",
    "L, R"
   ]
  },
  {
   "cell_type": "code",
   "execution_count": null,
   "id": "37bf814e",
   "metadata": {},
   "outputs": [],
   "source": [
    "#  Versão 2\n",
    "def CountInversions(A):\n",
    "    \n",
    "    def merge(left, right):\n",
    "        ordenada =[]\n",
    "        i, j = 0, 0 \n",
    "        tamanho_left, tamanho_right = len(left), len(right)\n",
    "        \n",
    "        inversoes = 0\n",
    "        while i<tamanho_left and j<tamanho_right:\n",
    "          \n",
    "            if left[i]<right[j]:\n",
    "                min_value = left[i]\n",
    "                i+=1\n",
    "                \n",
    "            else:\n",
    "                min_value = right[j]\n",
    "                j+=1\n",
    "                inversoes += (len(left)-i) # o que o anderson comentou na monitoria\n",
    "                \n",
    "            ordenada.append(min_value)\n",
    "        \n",
    "        if left[i:]:\n",
    "            ordenada+=left[i:]\n",
    "        if right[j:]:\n",
    "            ordenada+=right[j:]     \n",
    "        \n",
    "        return inversoes, ordenada \n",
    "    \n",
    "    tamanho_A = len(A)\n",
    "    if tamanho_A==1:\n",
    "        return 0, A\n",
    "    \n",
    "    L= A[:tamanho_A//2]\n",
    "    R = A[tamanho_A//2:]\n",
    "    \n",
    "    \n",
    "    \n",
    "    inversoes_l, L = CountInversions(L)\n",
    "    inversoes_r, R  = CountInversions(R)\n",
    "\n",
    "    # = combine(L,  R)\n",
    "    inversoes_entre_partes, A= merge(L, R)\n",
    "    \n",
    "    return inversoes_l + inversoes_r + inversoes_entre_partes, A\n",
    "    "
   ]
  },
  {
   "cell_type": "markdown",
   "id": "4cf8a04a",
   "metadata": {},
   "source": [
    "Pares mais próximos"
   ]
  },
  {
   "cell_type": "code",
   "execution_count": null,
   "id": "ede5b485",
   "metadata": {},
   "outputs": [],
   "source": [
    "\n",
    "\n",
    "def distancia_euclidiana(p1, p2):\n",
    "    dist = ((p1[0]-p2[0])**2 +(p1[1]-p2[1])**2)**(1/2)\n",
    "    return dist\n",
    "def distancia_divisoria(divisoria, ponto):\n",
    "    return abs(ponto[0]- divisoria)\n",
    "\n",
    "#  Versão 1 \n",
    "def closest_pairs(P):\n",
    "    P.sort(key = lambda item: item[0])\n",
    "    tamanho_P = len(P) \n",
    "    \n",
    "    if tamanho_P==1:\n",
    "        return float('inf')\n",
    "    elif tamanho_P ==2:\n",
    "        dist_min = distancia_euclidiana(P[0], P[1])\n",
    "        return dist_min\n",
    "    elif tamanho_P ==3:\n",
    "        dist_1_2 = distancia_euclidiana(P[0],P[1])\n",
    "        dist_1_3 =  distancia_euclidiana(P[0],P[2])\n",
    "        dist_2_3 =  distancia_euclidiana(P[1],P[2])\n",
    "        dist_possiveis = [dist_1_2, dist_1_3, dist_2_3]\n",
    "        dist_min= min(dist_possiveis)\n",
    "        return dist_min\n",
    "    P_l, P_r = P[:tamanho_P//2],P[tamanho_P//2:]\n",
    "    divisoria = (P[tamanho_P//2 ][0] +  P[tamanho_P//2 + 1][0] )*0.5\n",
    "    \n",
    "    min_l = closest_pairs(P_l)\n",
    "    min_r =  closest_pairs(P_r)\n",
    "    min_geral = min(min_l, min_r)\n",
    "    P_m = []\n",
    "    \n",
    "    \n",
    "    \n",
    "    for ponto in P:\n",
    "        if distancia_divisoria(divisoria, ponto) <=min_geral:\n",
    "            P_m.append(ponto)\n",
    "    \n",
    "    #  Ordenando pela ordenada Y \n",
    "    P_m.sort(key= lambda item: item[1])\n",
    "    \n",
    "    \n",
    "    for ponto_idx in range(len(P_m)):\n",
    "        if ponto_idx + 7 <len(P_m):\n",
    "            sete_mais_prox = P_m[ponto_idx+1: ponto_idx + 7]\n",
    "            for ponto_viz in sete_mais_prox:\n",
    "                dist_atual = distancia_euclidiana(ponto_viz, P_m[ponto_idx])\n",
    "                if dist_atual < min_geral:\n",
    "                    min_geral =  dist_atual\n",
    "        elif ponto_idx+1 < len(P_m):\n",
    "            mais_proxim = P_m[ponto_idx+1:]\n",
    "            for ponto_viz in mais_proxim:\n",
    "                dist_atual = distancia_euclidiana(ponto_viz, P_m[ponto_idx])\n",
    "                if dist_atual < min_geral:\n",
    "                    min_geral =  dist_atual\n",
    "    return min_geral"
   ]
  },
  {
   "cell_type": "code",
   "execution_count": null,
   "id": "3f68c160",
   "metadata": {},
   "outputs": [],
   "source": [
    "#  Versão 2 \n",
    "def closest_pairs_driver(P):\n",
    "\n",
    "    Px = sorted(P, key=lambda item: item[0])\n",
    "    Py = sorted(P, key=lambda item: item[1])\n",
    "    \n",
    "    # Chama a função recursiva com as listas pré-ordenadas\n",
    "    return closest_pairs_recursiver(Px, Py)\n",
    "\n",
    "\n",
    "def closest_pairs_recursiver(Px, Py):\n",
    "            \n",
    "        \n",
    "        tamanho_P = len(Px) \n",
    "        \n",
    "        if tamanho_P==1:\n",
    "            return float('inf')\n",
    "        elif tamanho_P ==2:\n",
    "            dist_min = distancia_euclidiana(Px[0], Px[1])\n",
    "            return dist_min\n",
    "        elif tamanho_P ==3:\n",
    "            dist_1_2 = distancia_euclidiana(Px[0],Px[1])\n",
    "            dist_1_3 =  distancia_euclidiana(Px[0],Px[2])\n",
    "            dist_2_3 =  distancia_euclidiana(Px[1],Px[2])\n",
    "            dist_possiveis = [dist_1_2, dist_1_3, dist_2_3]\n",
    "            dist_min= min(dist_possiveis)\n",
    "            return dist_min\n",
    "        Px_l, Px_r = Px[:tamanho_P//2],Px[tamanho_P//2:]\n",
    "        divisoria = Px_l[-1][0]\n",
    "        \n",
    "        \n",
    "        \n",
    "        Py_l, Py_r = [], []\n",
    "        \n",
    "        for ponto in Py:\n",
    "            \n",
    "            if ponto[0] < divisoria:\n",
    "                Py_l.append(ponto)\n",
    "            else:\n",
    "                Py_r.append(ponto)\n",
    "        \n",
    "        \n",
    "        \n",
    "        # Tem que dividir tbm o Py em duas metades\n",
    "        min_l = closest_pairs_recursiver(Px_l), Py_l # tinha faltado outro parametro\n",
    "        min_r =  closest_pairs_recursiver(Px_r, Px_l)# tinha faltado outro parametro\n",
    "        min_geral = min(min_l, min_r)\n",
    "        \n",
    "        \n",
    "        \n",
    "        # Faixa central \n",
    "        P_m = []\n",
    "        \n",
    "        for ponto in Py:\n",
    "            if distancia_divisoria(divisoria, ponto) <=min_geral:\n",
    "                P_m.append(ponto)\n",
    "        \n",
    "       \n",
    "        \n",
    "        for ponto_idx in range(len(P_m)):\n",
    "            \n",
    "            for i in range(ponto_idx+1,min(ponto_idx+8, len(P_m)) ):\n",
    "                dist_atual = distancia_euclidiana(P_m[i], P_m[ponto_idx])\n",
    "                if dist_atual < min_geral:\n",
    "                        min_geral =  dist_atual\n",
    "        return min_geral\n",
    "\n",
    "\n",
    "\n",
    "        "
   ]
  },
  {
   "cell_type": "markdown",
   "id": "2e0ef1e5",
   "metadata": {},
   "source": [
    "Fibonacci"
   ]
  },
  {
   "cell_type": "code",
   "execution_count": null,
   "id": "689912e7",
   "metadata": {},
   "outputs": [],
   "source": [
    "#  Versão não eficiente\n",
    "# complexidade exponencial\n",
    "def fibonacci(n):\n",
    "    if n <= 2:\n",
    "        return 1\n",
    "    else:\n",
    "        return fibonacci(n-1) + fibonacci(n-2)\n",
    "    "
   ]
  },
  {
   "cell_type": "code",
   "execution_count": 14,
   "id": "558b4ee1",
   "metadata": {},
   "outputs": [],
   "source": [
    "#  solução top down\n",
    "def fibonacci(n):\n",
    "    def fibAux(n):\n",
    "\n",
    "        if F[n] ==-1:\n",
    "            F[n] = fibAux(n-1) + fibAux(n-2)\n",
    "        \n",
    "        return F[n]\n",
    " \n",
    "    F= [-1]* (n+1)\n",
    "    F[1], F[2] = 1, 1\n",
    "\n",
    "    return fibAux(n)\n",
    "\n",
    "    \n",
    "    "
   ]
  },
  {
   "cell_type": "code",
   "execution_count": 16,
   "id": "a2d40cf0",
   "metadata": {},
   "outputs": [
    {
     "data": {
      "text/plain": [
       "8"
      ]
     },
     "execution_count": 16,
     "metadata": {},
     "output_type": "execute_result"
    }
   ],
   "source": [
    "fibonacci(6)"
   ]
  },
  {
   "cell_type": "code",
   "execution_count": 19,
   "id": "99f4d0f9",
   "metadata": {},
   "outputs": [],
   "source": [
    "#  Solução bottom up\n",
    "def fibonacci(n):\n",
    "    if n<=2:\n",
    "        return 1\n",
    "    \n",
    "    F = [0]*(n+1)\n",
    "    \n",
    "    F[1] = F[2] = 1\n",
    "    \n",
    "    for i in range(3, n+1):\n",
    "        F[i] = F[i-1] + F[i-2]\n",
    "    \n",
    "    return F[n]"
   ]
  },
  {
   "cell_type": "markdown",
   "id": "1d28503c",
   "metadata": {},
   "source": [
    "Problema da Mochila "
   ]
  },
  {
   "cell_type": "code",
   "execution_count": 46,
   "id": "3de1b6f1",
   "metadata": {},
   "outputs": [],
   "source": [
    "\n",
    "\n",
    "def mochila(i, v, w, W: int):\n",
    "    \"\"\"Solução do problema da mochila de forma recursiva sem cache\n",
    "\n",
    "    Args:\n",
    "        I (list): items\n",
    "        v (list): valores\n",
    "        w (_type_): _description_\n",
    "        W (int): _description_\n",
    "\n",
    "    Returns:\n",
    "        _type_: _description_\n",
    "    \"\"\"\n",
    "    if i<0 or W == 0:\n",
    "        return 0\n",
    "    \n",
    "    \n",
    "    \n",
    "    if w[i]> W:\n",
    "      \n",
    "        return mochila(i-1, v, w, W)\n",
    "\n",
    "    #  Não pegar o item atual\n",
    "    value_not_using = mochila(i-1, v, w, W)\n",
    "   \n",
    "    value_using = v[i] + mochila(i-1, v, w,  W-w[i])\n",
    "    \n",
    "    return max(value_not_using, value_using)\n",
    "    \n",
    "    \n",
    "        "
   ]
  },
  {
   "cell_type": "code",
   "execution_count": 47,
   "id": "36615020",
   "metadata": {},
   "outputs": [
    {
     "name": "stdout",
     "output_type": "stream",
     "text": [
      "O valor máximo (sem cache) é: 40\n"
     ]
    }
   ],
   "source": [
    "# --- Exemplo de uso ---\n",
    "valores = [1, 6, 18, 22, 28] \n",
    "pesos = [1, 2, 5, 6, 7] \n",
    "capacidade_maxima = 11\n",
    "n = len(valores)\n",
    "\n",
    "# Chamada inicial com o índice do último item (n-1)\n",
    "valor_maximo = mochila(n - 1, valores, pesos, capacidade_maxima)\n",
    "print(f\"O valor máximo (sem cache) é: {valor_maximo}\") # Saída: 40"
   ]
  },
  {
   "cell_type": "code",
   "execution_count": null,
   "id": "c40e789a",
   "metadata": {},
   "outputs": [],
   "source": [
    "itens_id = [1, 2, 3, 4, 5]\n",
    "valores = [1, 6, 18, 22, 28] # Corrigido para v[1]=1\n",
    "pesos = [1, 2, 5, 6, 7] # Corrigido para w[1]=1\n",
    "capacidade_maxima = 11\n",
    "n = len(itens_id)"
   ]
  },
  {
   "cell_type": "code",
   "execution_count": 55,
   "id": "44cde2ce",
   "metadata": {},
   "outputs": [],
   "source": [
    "#  Mochila top-down\n",
    "\n",
    "def mochila( v, pesos, capacidade_max):\n",
    "    def mochilaAux(i, capacidade_restante):\n",
    "        # Faltou caso base\n",
    "        if i== 0 or capacidade_restante <=0:\n",
    "            return 0 \n",
    "        \n",
    "        if M[i][capacidade_restante] == -1:\n",
    "            \n",
    "            if pesos[i-1] > capacidade_restante:\n",
    "                M[i][capacidade_restante] = mochilaAux(i-1, capacidade_restante)\n",
    "            else:\n",
    "                using = v[i-1] + mochilaAux(i-1, capacidade_restante-pesos[i-1]) # Valor pegando o item\n",
    "                not_using = mochilaAux(i-1, capacidade_restante) # Valor não pegando o item\n",
    "                M[i][capacidade_restante] = max(using, not_using)\n",
    "            \n",
    "        \n",
    "        \n",
    "        return M[i][capacidade_restante]\n",
    "    \n",
    "    \n",
    "    #  memo\n",
    "    M = [[-1 for _ in range(capacidade_max+1)] for _ in range(n+1)]\n",
    "    # for i in range(capacidade_max):\n",
    "    #     M[0][i] = 0\n",
    "    #     for j in range(1, n):\n",
    "    #         M[j][0] = 0 \n",
    "    #         M[j][i] = -1\n",
    "            \n",
    "    return mochilaAux(n,  capacidade_max)\n",
    "        \n",
    "        "
   ]
  },
  {
   "cell_type": "code",
   "execution_count": 56,
   "id": "f7f8047d",
   "metadata": {},
   "outputs": [
    {
     "name": "stdout",
     "output_type": "stream",
     "text": [
      "O valor máximo (Top-Down com cache) é: 40\n"
     ]
    }
   ],
   "source": [
    "valores = [1, 6, 18, 22, 28] \n",
    "pesos = [1, 2, 5, 6, 7] \n",
    "capacidade_maxima = 11\n",
    "\n",
    "valor_maximo = mochila(valores, pesos, capacidade_maxima)\n",
    "print(f\"O valor máximo (Top-Down com cache) é: {valor_maximo}\") # Saída: 40"
   ]
  },
  {
   "cell_type": "code",
   "execution_count": 66,
   "id": "b1f40841",
   "metadata": {},
   "outputs": [],
   "source": [
    "#  Mochila bottom-up\n",
    "def mochila_bottom_up( v , pesos, capacidade_maxima):\n",
    "    def mochilaAux(i, j, v, pesos):\n",
    "        #  Se o item não cabe na mochila\n",
    "        if pesos[j-1] > i:\n",
    "            M[j][i] = M[j-1][i] # copia o valor da linha anterior\n",
    "        else:\n",
    "            using = v[j-1] + M[j-1][i-pesos[j-1]]\n",
    "            not_using = M[j-1][i]\n",
    "            M[j][i] = max(using, not_using)\n",
    "            \n",
    "    n = len(v)\n",
    "    M = [[0 for _ in range(capacidade_maxima+1)] for _ in range(n+1)]\n",
    "    \n",
    "\n",
    "    #  Percorrendo os itens\n",
    "    for j in range(1, n+1):\n",
    "        #  Percorrendo as capacidades\n",
    "        for i in range(1, capacidade_maxima+1):\n",
    "            mochilaAux(i, j, v, pesos )\n",
    "            \n",
    "    return M\n",
    "\n",
    "    "
   ]
  },
  {
   "cell_type": "code",
   "execution_count": 77,
   "id": "69b5a806",
   "metadata": {},
   "outputs": [
    {
     "name": "stdout",
     "output_type": "stream",
     "text": [
      "O valor máximo (Bottom-Up) é: [[0, 0, 0, 0, 0, 0, 0, 0, 0, 0, 0, 0], [0, 1, 1, 1, 1, 1, 1, 1, 1, 1, 1, 1], [0, 1, 6, 7, 7, 7, 7, 7, 7, 7, 7, 7], [0, 1, 6, 7, 7, 18, 19, 24, 25, 25, 25, 25], [0, 1, 6, 7, 7, 18, 22, 24, 28, 29, 29, 40], [0, 1, 6, 7, 7, 18, 22, 28, 29, 34, 35, 40]]\n"
     ]
    }
   ],
   "source": [
    "valores = [1, 6, 18, 22, 28] \n",
    "pesos = [1, 2, 5, 6, 7] \n",
    "capacidade_maxima = 11\n",
    "\n",
    "M = mochila_bottom_up(valores, pesos, capacidade_maxima)\n",
    "print(f\"O valor máximo (Bottom-Up) é: {valor_maximo}\") # Saída: 40"
   ]
  },
  {
   "cell_type": "code",
   "execution_count": 87,
   "id": "f719b32e",
   "metadata": {},
   "outputs": [
    {
     "name": "stdout",
     "output_type": "stream",
     "text": [
      "[[0, 0, 0, 0, 0, 0], [0, 0, 0, 0, 0, 10], [0, 0, 0, 0, 0, 10]]\n"
     ]
    },
    {
     "data": {
      "text/plain": [
       "10"
      ]
     },
     "execution_count": 87,
     "metadata": {},
     "output_type": "execute_result"
    }
   ],
   "source": [
    "valores = [10, 10] \n",
    "pesos = [5,5]\n",
    "capacidade_maxima = 5\n",
    "\n",
    "\n",
    "M = mochila_bottom_up(valores, pesos, capacidade_maxima)\n",
    "\n",
    "print(M)\n",
    "M[-1][-1]"
   ]
  },
  {
   "cell_type": "markdown",
   "id": "4e5fff31",
   "metadata": {},
   "source": [
    "Tem que descobrir também quais itens são esses:"
   ]
  },
  {
   "cell_type": "code",
   "execution_count": 89,
   "id": "15b29593",
   "metadata": {},
   "outputs": [
    {
     "name": "stdout",
     "output_type": "stream",
     "text": [
      "[1]\n"
     ]
    },
    {
     "data": {
      "text/plain": [
       "[1]"
      ]
     },
     "execution_count": 89,
     "metadata": {},
     "output_type": "execute_result"
    }
   ],
   "source": [
    "n = len(valores)\n",
    "itens_adicionados = []\n",
    "capacidade_atual = capacidade_maxima\n",
    "j = n\n",
    "while j >=1 and capacidade_atual>0:\n",
    "    if M[j][capacidade_atual] == (M[j-1][capacidade_atual-pesos[j-1]]  + valores[j-1]):\n",
    "        itens_adicionados.append(j-1)\n",
    "        capacidade_atual-=pesos[j-1]\n",
    "        print(itens_adicionados)\n",
    "    j-=1\n",
    "itens_adicionados"
   ]
  },
  {
   "cell_type": "code",
   "execution_count": 90,
   "id": "9cd12d11",
   "metadata": {},
   "outputs": [
    {
     "name": "stdout",
     "output_type": "stream",
     "text": [
      "[0]\n"
     ]
    },
    {
     "data": {
      "text/plain": [
       "[0]"
      ]
     },
     "execution_count": 90,
     "metadata": {},
     "output_type": "execute_result"
    }
   ],
   "source": [
    "n = len(valores)\n",
    "itens_adicionados = []\n",
    "capacidade_atual = capacidade_maxima\n",
    "j = n\n",
    "while j >=1 and capacidade_atual>0:\n",
    "    if M[j][capacidade_atual] != M[j-1][capacidade_atual]:\n",
    "        itens_adicionados.append(j-1)\n",
    "        capacidade_atual-=pesos[j-1]\n",
    "        print(itens_adicionados)\n",
    "    j-=1\n",
    "itens_adicionados"
   ]
  },
  {
   "cell_type": "markdown",
   "id": "32549c7a",
   "metadata": {},
   "source": [
    "Subsequência"
   ]
  },
  {
   "cell_type": "code",
   "execution_count": null,
   "id": "129cf862",
   "metadata": {},
   "outputs": [],
   "source": [
    "def eh_subsequencia(Z, m, X, n)-> bool:\n",
    "    \"\"\"Função que decide se Z é uma \n",
    "    subsequência de X\n",
    "\n",
    "    Args:\n",
    "        Z (_type_): sequencia men\n",
    "        m (_type_): _description_\n",
    "        X (_type_): _description_\n",
    "        n (_type_): _description_\n",
    "\n",
    "    Returns:\n",
    "        bool: _description_\n",
    "    \"\"\"\n",
    "    i = m-1\n",
    "    j = n-1\n",
    "    while i>= 0 and j>=0:\n",
    "        if  Z[i] == X[j]:\n",
    "            i-=1\n",
    "        j-=1\n",
    "    if i>=0: # se sobrou elementos na lita Z\n",
    "        return False\n",
    "    else:\n",
    "        return True\n",
    "            "
   ]
  },
  {
   "cell_type": "code",
   "execution_count": null,
   "id": "aae57d26",
   "metadata": {},
   "outputs": [
    {
     "data": {
      "text/plain": [
       "4"
      ]
     },
     "execution_count": 1,
     "metadata": {},
     "output_type": "execute_result"
    }
   ],
   "source": [
    "MAXN = 1010\n",
    "\n",
    "tab = [[-1 for _ in range(MAXN)]  for _ in range(MAXN)]\n",
    "\n",
    "s1, s2 = ['A', 'B', 'C', 'B', 'D', 'A', 'B'], ['B', 'D', 'C', 'A', 'B', 'A']\n",
    "\n",
    "# top down\n",
    "\n",
    "def maior_subsequencia_top( m , n):\n",
    "    if tab[m][n] >= 0:\n",
    "        return tab[m][n]\n",
    "    if m<0 or n<0:\n",
    "        return 0\n",
    "    if s1[m] == s2[n]:\n",
    "        res = 1+ maior_subsequencia_top(m-1, n-1)\n",
    "        tab[m][n] = res\n",
    "    tab[m][n] = max(maior_subsequencia_top(m, n-1), maior_subsequencia_top(m-1, n))\n",
    "    return tab[m][n]\n",
    "\n",
    "def maior_subsequencia_bottom(s1, s2):\n",
    "    p = len(s1)\n",
    "    q = len(s2)\n",
    "    \n",
    "    M = [[None for _ in range(q+1)] for _ in range(p+1)]\n",
    "     \n",
    "    for i in range(p+1):\n",
    "        M[i][0] = 0 \n",
    "    for j in range(q+1):\n",
    "        M[0][j] = 0\n",
    "    \n",
    "    for i in range(1, p+1):\n",
    "        for j in range(q+1):\n",
    "            if s1[i] == s2[j]:\n",
    "                M[i][j] = M[i-1][j-1] + 1\n",
    "            else:\n",
    "                M[i][j] = max(M[i-1][j], M[i][j-1])\n",
    "    \n",
    "    return M[p][q]"
   ]
  },
  {
   "cell_type": "code",
   "execution_count": null,
   "id": "95318be1",
   "metadata": {},
   "outputs": [],
   "source": [
    "# moedas sistemas canonicos\n",
    "\n",
    "def troco(valor, lista_moedas):\n",
    "    # 1.  ordena a lista de moedas\n",
    "    # por valor descrescente \n",
    "    #  2. pegar a maior moeda, ver quantas moedas consigo colocar\n",
    "    # \n",
    "    lista_moedas.sort(reversed=True)\n",
    "    quantidade_total = 0\n",
    "    resultado = []\n",
    "    \n",
    "    for moeda in lista_moedas:\n",
    "        if valor >= moeda:\n",
    "            quantidade = valor//moeda\n",
    "            quantidade_total+=quantidade\n",
    "            valor %=moeda\n",
    "            \n",
    "            for i in range(quantidade):\n",
    "                resultado.append(moeda)\n",
    "    \n",
    "    \n",
    "    if valor >0:\n",
    "        return \"Não foi possivel formar o valor\"\n",
    "    else:\n",
    "        quantidade_total, resultado\n",
    "        \n",
    "              "
   ]
  },
  {
   "cell_type": "code",
   "execution_count": null,
   "id": "47e6b866",
   "metadata": {},
   "outputs": [],
   "source": [
    "#  encontrar o maior e o menor elemento simultaneamente  usando o menor numero \n",
    "# possivel de comparações\n",
    "def max_min(A: list, esquerda, direita)->tuple:\n",
    "    if esquerda == direita:\n",
    "        return A[esquerda], A[esquerda]\n",
    "    \n",
    "    if direita == esquerda+1:\n",
    "        \n",
    "        if A[esquerda] < A[direita]:\n",
    "            return A[direita], A[esquerda]\n",
    "        else:\n",
    "            return A[esquerda], A[direita]\n",
    "    \n",
    "    \n",
    "    meio = (esquerda+direita)//2\n",
    "    max1, min1 = max_min(A, esquerda, meio)\n",
    "    max2, min2 = max_min(A, meio+1, direita)\n",
    "    \n",
    "    max_final = max(max1,  max2)\n",
    "    min_final = min(min1, min2)\n",
    "    \n",
    "    return max_final, min_final\n",
    " "
   ]
  },
  {
   "cell_type": "code",
   "execution_count": null,
   "id": "bb6e8867",
   "metadata": {},
   "outputs": [],
   "source": []
  }
 ],
 "metadata": {
  "kernelspec": {
   "display_name": "base",
   "language": "python",
   "name": "python3"
  },
  "language_info": {
   "codemirror_mode": {
    "name": "ipython",
    "version": 3
   },
   "file_extension": ".py",
   "mimetype": "text/x-python",
   "name": "python",
   "nbconvert_exporter": "python",
   "pygments_lexer": "ipython3",
   "version": "3.11.7"
  }
 },
 "nbformat": 4,
 "nbformat_minor": 5
}
